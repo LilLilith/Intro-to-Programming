{
  "nbformat": 4,
  "nbformat_minor": 0,
  "metadata": {
    "colab": {
      "name": "Week 8.ipynb",
      "provenance": [],
      "authorship_tag": "ABX9TyOtjIIwE5/+tp5QHauPef0b",
      "include_colab_link": true
    },
    "kernelspec": {
      "name": "python3",
      "display_name": "Python 3"
    }
  },
  "cells": [
    {
      "cell_type": "markdown",
      "metadata": {
        "id": "view-in-github",
        "colab_type": "text"
      },
      "source": [
        "<a href=\"https://colab.research.google.com/github/LilLilith/Intro-to-Programming/blob/master/Week_8.ipynb\" target=\"_parent\"><img src=\"https://colab.research.google.com/assets/colab-badge.svg\" alt=\"Open In Colab\"/></a>"
      ]
    },
    {
      "cell_type": "code",
      "metadata": {
        "id": "xbD6pkevaDbD"
      },
      "source": [
        "world = \"Hello World\"\n",
        "print(world)\n",
        "world = world.upper()\n",
        "print(world)\n",
        "world = world.lower()\n",
        "print(world)"
      ],
      "execution_count": null,
      "outputs": []
    },
    {
      "cell_type": "code",
      "metadata": {
        "id": "ercY7oBOzgHV"
      },
      "source": [
        "def hasVowels(str):\n",
        "  str = str.lower()\n",
        "  if (\"a\" in str or \"e\" in str or \"i\" in str or \"o\" in str or \"u\" in str):\n",
        "    return True\n",
        "  else:\n",
        "    return False\n",
        "word = \"berry\"\n",
        "not_word = \"fghjk\"\n",
        "\n",
        "if hasVowels(word):\n",
        "  print(\"The string\", word, \"has at least one vowel\")\n",
        "else:\n",
        "  print(\"The string\", word, \"does not have any vowels\")\n",
        "\n",
        "if hasVowels(not_word):\n",
        "  print(\"The string\", not_word, \"has at least one vowel\")\n",
        "else:\n",
        "  print(\"The string\", not_word, \"does not have any vowels\")"
      ],
      "execution_count": null,
      "outputs": []
    },
    {
      "cell_type": "code",
      "metadata": {
        "id": "64nL75RBSu6K"
      },
      "source": [
        "x = 2\n",
        "word = input(\"Enter a word with vowels: \")\n",
        "while x > 1:\n",
        "  if hasVowels(word):\n",
        "    print(\"Thank you for following instructions!\")\n",
        "    break\n",
        "  else:\n",
        "    word = input(\"Enter a word with vowels: \")"
      ],
      "execution_count": null,
      "outputs": []
    },
    {
      "cell_type": "code",
      "metadata": {
        "id": "TKwbxzItygHb"
      },
      "source": [
        "def countVowels(str):\n",
        "  count = 0\n",
        "  str = str.lower()\n",
        "  for letter in str:\n",
        "    if (letter == \"a\" or letter == \"e\" or letter == \"i\" or letter == \"o\" or letter == \"u\"):\n",
        "      count += 1\n",
        "  return count\n",
        "\n",
        "name1 = \"matthew\"\n",
        "name2 = \"lepinski\"\n",
        "\n",
        "count1 = countVowels(name1)\n",
        "count2 = countVowels(name2)\n",
        "\n",
        "print(name1, \"has\", count1, \"vowels in it\")\n",
        "print(name2, \"has\", count2, \"vowels in it\")"
      ],
      "execution_count": null,
      "outputs": []
    },
    {
      "cell_type": "code",
      "metadata": {
        "id": "k0_FwMSK8FMo"
      },
      "source": [
        "WordList = []\n",
        "def ListGenerator():\n",
        "  CoolWord = input(\"Enter a word to add to the list, or enter stop to stop: \")\n",
        "  CoolWord = CoolWord.lower()\n",
        "  while not CoolWord == \"stop\":\n",
        "    WordList.append(CoolWord)\n",
        "    CoolWord = input(\"Enter a word to add to the list, or enter stop to stop: \")\n",
        "    CoolWord = CoolWord.lower()\n",
        "  return WordList"
      ],
      "execution_count": null,
      "outputs": []
    },
    {
      "cell_type": "code",
      "metadata": {
        "id": "DQTjloqU85b4"
      },
      "source": [
        "WordList = []\n",
        "def ListGenerator():\n",
        "  CoolWord = input(\"Enter a word to add to the list, or enter stop to stop: \")\n",
        "  CoolWord = CoolWord.lower()\n",
        "  while not CoolWord == \"stop\":\n",
        "    WordList.append(CoolWord)\n",
        "    CoolWord = input(\"Enter a word to add to the list, or enter stop to stop: \")\n",
        "    CoolWord = CoolWord.lower()\n",
        "  return WordList\n",
        "\n",
        "def countVowels(str):\n",
        "  count = 0\n",
        "  str = str.lower()\n",
        "  for letter in str:\n",
        "    if (letter == \"a\" or letter == \"e\" or letter == \"i\" or letter == \"o\" or letter == \"u\"):\n",
        "      count += 1\n",
        "  return count\n",
        "\n",
        "WordList2 = ListGenerator()\n",
        "WordList2 = str(WordList2)\n",
        "\n",
        "print(\"Your list has\", countVowels(WordList2), \"vowels in it.\")"
      ],
      "execution_count": null,
      "outputs": []
    }
  ]
}